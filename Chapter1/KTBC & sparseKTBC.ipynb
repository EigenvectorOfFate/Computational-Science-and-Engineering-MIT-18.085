{
 "cells": [
  {
   "cell_type": "code",
   "execution_count": 1,
   "metadata": {},
   "outputs": [],
   "source": [
    "import numpy as np\n",
    "from scipy.sparse import spdiags\n",
    "from scipy.linalg import toeplitz"
   ]
  },
  {
   "cell_type": "markdown",
   "metadata": {},
   "source": [
    "Python version of KTBC.m"
   ]
  },
  {
   "cell_type": "code",
   "execution_count": 2,
   "metadata": {},
   "outputs": [],
   "source": [
    "def KTBC(n):\n",
    "    \n",
    "    #E = np.diag(np.ones(n-1), 1)\n",
    "    #K = 2 * np.eye(n) - E - E.T\n",
    "\n",
    "    K = toeplitz([2, -1, *np.zeros(n-2)])\n",
    "    T = K.copy()\n",
    "    T[0][0] = 1\n",
    "    B = T.copy()\n",
    "    B[n-1][n-1] = 1\n",
    "    C = K.copy()\n",
    "    C[0][n-1] = -1\n",
    "    C[n-1][0] = -1\n",
    "    \n",
    "    return K,T,B,C"
   ]
  },
  {
   "cell_type": "markdown",
   "metadata": {},
   "source": [
    "Example: "
   ]
  },
  {
   "cell_type": "code",
   "execution_count": 3,
   "metadata": {},
   "outputs": [
    {
     "name": "stdout",
     "output_type": "stream",
     "text": [
      "[[ 2. -1.  0.  0.]\n",
      " [-1.  2. -1.  0.]\n",
      " [ 0. -1.  2. -1.]\n",
      " [ 0.  0. -1.  2.]]\n",
      "[[ 1. -1.  0.  0.]\n",
      " [-1.  2. -1.  0.]\n",
      " [ 0. -1.  2. -1.]\n",
      " [ 0.  0. -1.  2.]]\n",
      "[[ 1. -1.  0.  0.]\n",
      " [-1.  2. -1.  0.]\n",
      " [ 0. -1.  2. -1.]\n",
      " [ 0.  0. -1.  1.]]\n",
      "[[ 2. -1.  0. -1.]\n",
      " [-1.  2. -1.  0.]\n",
      " [ 0. -1.  2. -1.]\n",
      " [-1.  0. -1.  2.]]\n"
     ]
    }
   ],
   "source": [
    "K,T,B,C = KTBC(4)\n",
    "print(K)\n",
    "print(T)\n",
    "print(B)\n",
    "print(C)"
   ]
  },
  {
   "cell_type": "markdown",
   "metadata": {},
   "source": [
    "Python version of sparseKTBCcode.m\n",
    "\n",
    "THIS IS THE CODE TO CREATE K,T,B,C AS SPARSE MATRICES\n",
    "\n",
    "Then Matlab will not operate on all the zeros! "
   ]
  },
  {
   "cell_type": "code",
   "execution_count": 4,
   "metadata": {},
   "outputs": [],
   "source": [
    "def sparseKTBC(dtype = 'K', n = 10, sparse = False):\n",
    "    \"\"\"\n",
    "    sparceKTBC Create finite difference model matrix.\n",
    "    K=sparseKTBC(DTYPE,N,SPARSE) creates model matrix TYPE\n",
    "    of size N-by-N. TYPE is one of the characters 'K', 'T'\n",
    "    'B', or 'C'. The matrix is dense unless SPARSE is true.\n",
    "\n",
    "    K=FDMODEL uses the defaults TYPE='K', N=10, and\n",
    "    SPARSE=false.\n",
    "    \"\"\"\n",
    "    e = np.ones(n)\n",
    "    K = spdiags([[*-e], [*2*e], [*-e]], [-1,0,1], n, n, format='lil')\n",
    "    if dtype == 'K':\n",
    "        None\n",
    "    elif dtype == 'T':\n",
    "        K[0,0] = 1\n",
    "    elif dtype == 'B':\n",
    "        K[0,0] = 1\n",
    "        K[n-1,n-1] = 1\n",
    "    elif dtype == 'C':\n",
    "        K[0,n-1] = -1\n",
    "        K[n-1,0] = -1\n",
    "    else:\n",
    "        print('Unknown matrix type.')\n",
    "            \n",
    "    if sparse == False:\n",
    "        return K.toarray()\n",
    "    else:\n",
    "        return K"
   ]
  },
  {
   "cell_type": "markdown",
   "metadata": {},
   "source": [
    "Example:"
   ]
  },
  {
   "cell_type": "code",
   "execution_count": 5,
   "metadata": {},
   "outputs": [
    {
     "name": "stdout",
     "output_type": "stream",
     "text": [
      "K4\n",
      "[[ 2. -1.  0.  0.]\n",
      " [-1.  2. -1.  0.]\n",
      " [ 0. -1.  2. -1.]\n",
      " [ 0.  0. -1.  2.]]\n",
      "T4\n",
      "[[ 1. -1.  0.  0.]\n",
      " [-1.  2. -1.  0.]\n",
      " [ 0. -1.  2. -1.]\n",
      " [ 0.  0. -1.  2.]]\n",
      "B4\n",
      "  (0, 0)\t1.0\n",
      "  (0, 1)\t-1.0\n",
      "  (1, 0)\t-1.0\n",
      "  (1, 1)\t2.0\n",
      "  (1, 2)\t-1.0\n",
      "  (2, 1)\t-1.0\n",
      "  (2, 2)\t2.0\n",
      "  (2, 3)\t-1.0\n",
      "  (3, 2)\t-1.0\n",
      "  (3, 3)\t1.0\n",
      "C4_sparse\n",
      "  (0, 0)\t2.0\n",
      "  (0, 1)\t-1.0\n",
      "  (0, 3)\t-1.0\n",
      "  (1, 0)\t-1.0\n",
      "  (1, 1)\t2.0\n",
      "  (1, 2)\t-1.0\n",
      "  (2, 1)\t-1.0\n",
      "  (2, 2)\t2.0\n",
      "  (2, 3)\t-1.0\n",
      "  (3, 0)\t-1.0\n",
      "  (3, 2)\t-1.0\n",
      "  (3, 3)\t2.0\n"
     ]
    }
   ],
   "source": [
    "K = sparseKTBC(dtype='K', n=4)\n",
    "print('K4')\n",
    "print(K)\n",
    "T = sparseKTBC(dtype='T', n=4)\n",
    "print('T4')\n",
    "print(T)\n",
    "B = sparseKTBC(dtype='B', n=4, sparse=True)\n",
    "print('B4')\n",
    "print(B)\n",
    "C = sparseKTBC(dtype='C', n=4, sparse=True)\n",
    "print('C4_sparse')\n",
    "print(C)"
   ]
  }
 ],
 "metadata": {
  "kernelspec": {
   "display_name": "Python 3",
   "language": "python",
   "name": "python3"
  },
  "language_info": {
   "codemirror_mode": {
    "name": "ipython",
    "version": 3
   },
   "file_extension": ".py",
   "mimetype": "text/x-python",
   "name": "python",
   "nbconvert_exporter": "python",
   "pygments_lexer": "ipython3",
   "version": "3.6.1"
  }
 },
 "nbformat": 4,
 "nbformat_minor": 2
}
